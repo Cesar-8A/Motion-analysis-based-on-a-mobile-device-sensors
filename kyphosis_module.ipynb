{
  "nbformat": 4,
  "nbformat_minor": 0,
  "metadata": {
    "colab": {
      "provenance": []
    },
    "kernelspec": {
      "name": "python3",
      "display_name": "Python 3"
    },
    "language_info": {
      "name": "python"
    }
  },
  "cells": [
    {
      "cell_type": "code",
      "source": [
        "!pip install ultralytics\n",
        "!pip install mediapipe"
      ],
      "metadata": {
        "id": "pHsgYv_GAZnW"
      },
      "execution_count": null,
      "outputs": []
    },
    {
      "cell_type": "code",
      "source": [
        "import cv2\n",
        "import numpy as np\n",
        "from ultralytics import YOLO\n",
        "import matplotlib.pyplot as plt\n",
        "\n",
        "# FOR MEDIAPIPE \n",
        "import mediapipe as mp"
      ],
      "metadata": {
        "id": "Ig2SD0LoAetb"
      },
      "execution_count": null,
      "outputs": []
    },
    {
      "cell_type": "code",
      "source": [
        "#MEDIAPIPE PART\n",
        "mp_drawing = mp.solutions.drawing_utils\n",
        "mp_drawing_styles = mp.solutions.drawing_styles\n",
        "mp_pose = mp.solutions.pose"
      ],
      "metadata": {
        "id": "_6jqmePrNQ50"
      },
      "execution_count": null,
      "outputs": []
    },
    {
      "cell_type": "code",
      "source": [
        "model = YOLO('yolov8x-seg.pt')\n",
        "#model.to('cuda') #uncomment this if cuda is available"
      ],
      "metadata": {
        "id": "KgX6Bl9LAgBw"
      },
      "execution_count": null,
      "outputs": []
    },
    {
      "cell_type": "code",
      "source": [
        "data = {\n",
        "    \"NOSE\":[],\n",
        "    \"LEFT_EYE_INNER\":[],\n",
        "    \"LEFT_EYE\":[],\n",
        "    \"LEFT_EYE_OUTER\":[],\n",
        "    \"RIGHT_EYE_INNER\":[],\n",
        "    \"RIGHT_EYE\":[],\n",
        "    \"RIGHT_EYE_OUTER\":[],\n",
        "    \"LEFT_EAR\":[],\n",
        "    \"RIGHT_EAR\":[],\n",
        "    \"MOUTH_LEFT\":[],\n",
        "    \"MOUTH_RIGHT\":[],\n",
        "    \"LEFT_SHOULDER\":[],\n",
        "    \"RIGHT_SHOULDER\":[],\n",
        "    \"LEFT_ELBOW\":[],\n",
        "    \"RIGHT_ELBOW\":[],\n",
        "    \"LEFT_WRIST\":[],\n",
        "    \"RIGHT_WRIST\":[],\n",
        "    \"LEFT_PINKY\":[],\n",
        "    \"RIGHT_PINKY\":[],\n",
        "    \"LEFT_INDEX\":[],\n",
        "    \"RIGHT_INDEX\":[],\n",
        "    \"LEFT_THUMB\":[],\n",
        "    \"RIGHT_THUMB\":[],\n",
        "    \"LEFT_HIP\":[],\n",
        "    \"RIGHT_HIP\":[],\n",
        "    \"LEFT_KNEE\":[],\n",
        "    \"RIGHT_KNEE\":[],\n",
        "    \"LEFT_ANKLE\":[],\n",
        "    \"RIGHT_ANKLE\":[],\n",
        "    \"LEFT_HEEL\":[],\n",
        "    \"RIGHT_HEEL\":[],\n",
        "    \"LEFT_FOOT_INDEX\":[],\n",
        "    \"RIGHT_FOOT_INDEX\":[]\n",
        "}\n",
        "#MEDIAPIPE LANDMARKS DRAWING\n",
        "file = '/content/c_normal.jpg'\n",
        "image = cv2.imread(file)\n",
        "BG_COLOR = (192, 192, 192) # gray\n",
        "with mp_pose.Pose(\n",
        "    static_image_mode=True,\n",
        "    model_complexity=2,\n",
        "    enable_segmentation=True,\n",
        "    min_detection_confidence=0.5) as pose:\n",
        "  image_height, image_width, _ = image.shape\n",
        "  # Convert the BGR image to RGB before processing.\n",
        "  results = pose.process(cv2.cvtColor(image, cv2.COLOR_BGR2RGB))\n",
        "  #Store the data\n",
        "  for key,i in zip(data.keys(), range(33)):\n",
        "    data[key].append([results.pose_landmarks.landmark[i].x, results.pose_landmarks.landmark[i].y, results.pose_landmarks.landmark[i].z])\n",
        "  # Draw pose landmarks on the image.\n",
        "  \"\"\"\n",
        "  mp_drawing.draw_landmarks(\n",
        "      image,\n",
        "      results.pose_landmarks,\n",
        "      mp_pose.POSE_CONNECTIONS,\n",
        "      landmark_drawing_spec=mp_drawing_styles.get_default_pose_landmarks_style())\n",
        "  \"\"\"\n",
        "for key in data.keys():\n",
        "  data[key] = np.array(data[key])  "
      ],
      "metadata": {
        "id": "cwKSPpqbMiae"
      },
      "execution_count": null,
      "outputs": []
    },
    {
      "cell_type": "code",
      "source": [
        "#Segmentation, this function receives a single image per use, the image must be a numpy matrix \n",
        "#this function returns a mask of the segmentated person or returns 0 if not persons were found\n",
        "\n",
        "def yoloseg(img):\n",
        "  #Get model results\n",
        "  results = model(img)\n",
        "  results = results[0]\n",
        "  clases = results.boxes.cls.cpu().numpy().astype(int)\n",
        "  #Find person index mask\n",
        "  person = 0\n",
        "  index = np.where(clases == person)[0]\n",
        "  if np.size(index) == 0:\n",
        "    #No persons were found\n",
        "    return 0\n",
        "  #return person mask as numpy array where mask is set to 1\n",
        "  return results.masks.data.cpu().numpy()[index[0]].astype(int)\n",
        "\n",
        "res = yoloseg(image)"
      ],
      "metadata": {
        "colab": {
          "base_uri": "https://localhost:8080/"
        },
        "id": "tUxClqFIAh6R",
        "outputId": "0425c59a-292e-4e44-d56a-cc1a61034902"
      },
      "execution_count": 212,
      "outputs": [
        {
          "output_type": "stream",
          "name": "stderr",
          "text": [
            "\n",
            "0: 640x544 1 person, 3850.6ms\n",
            "Speed: 3.2ms preprocess, 3850.6ms inference, 4.0ms postprocess per image at shape (1, 3, 640, 640)\n"
          ]
        }
      ]
    },
    {
      "cell_type": "code",
      "source": [
        "\n",
        "height, width = res.shape\n",
        "x=0\n",
        "y=1\n",
        "z=2\n",
        "\n",
        "if data[\"RIGHT_SHOULDER\"][0,x] < data[\"RIGHT_EAR\"][0,x]:\n",
        "  #Get bounding box\n",
        "  x1 = int(data[\"RIGHT_SHOULDER\"][0,x]*width)\n",
        "  y1 = int(data[\"RIGHT_SHOULDER\"][0,y]*height)\n",
        "  while res[y1,x1]:\n",
        "    x1-=1\n",
        "\n",
        "  bbox1 = (x1-60, y1+60)\n",
        "  bbox2 = (int(data[\"RIGHT_SHOULDER\"][0,x]*width), int(data[\"RIGHT_EAR\"][0,y]*height))\n",
        "\n",
        "  # Draw the rectangle on an image\n",
        "  im = np.empty((height, width, 3))\n",
        "  im[:,:,0] = res*255\n",
        "  im[:,:,1] = res*255\n",
        "  im[:,:,2] = res*255\n",
        "  cv2.rectangle(im, bbox1, bbox2, (0, 255, 0), 2)\n",
        "  crop = res[bbox2[1]:bbox1[1], bbox1[0]:bbox2[0]]\n",
        "\n",
        "else:\n",
        "  #Get bounding box\n",
        "  x1 = int(data[\"LEFT_SHOULDER\"][0,x]*width)\n",
        "  y1 = int(data[\"LEFT_SHOULDER\"][0,y]*height)\n",
        "  while res[y1,x1]:\n",
        "    x1+=1\n",
        "\n",
        "  bbox1 = (x1+60, y1+60)\n",
        "  bbox2 = (int(data[\"LEFT_SHOULDER\"][0,x]*width), int(data[\"LEFT_EAR\"][0,y]*height))\n",
        "\n",
        "  # Draw the rectangle on an image\n",
        "  im = np.empty((height, width, 3))\n",
        "  im[:,:,0] = res*255\n",
        "  im[:,:,1] = res*255\n",
        "  im[:,:,2] = res*255\n",
        "  cv2.rectangle(im, bbox1, bbox2, (0, 255, 0), 2)\n",
        "  crop = res[bbox2[1]:bbox1[1], bbox2[0]:bbox1[0]]\n",
        "  \n",
        "\n"
      ],
      "metadata": {
        "id": "sXxMjyTTTzNK"
      },
      "execution_count": 208,
      "outputs": []
    },
    {
      "cell_type": "code",
      "source": [
        "plt.imshow(im)"
      ],
      "metadata": {
        "colab": {
          "base_uri": "https://localhost:8080/",
          "height": 470
        },
        "id": "ryIDUp6zhQr8",
        "outputId": "5781fb99-fd91-4aef-a954-c5fa3233a0e6"
      },
      "execution_count": 210,
      "outputs": [
        {
          "output_type": "stream",
          "name": "stderr",
          "text": [
            "WARNING:matplotlib.image:Clipping input data to the valid range for imshow with RGB data ([0..1] for floats or [0..255] for integers).\n"
          ]
        },
        {
          "output_type": "execute_result",
          "data": {
            "text/plain": [
              "<matplotlib.image.AxesImage at 0x7f363958c9a0>"
            ]
          },
          "metadata": {},
          "execution_count": 210
        },
        {
          "output_type": "display_data",
          "data": {
            "text/plain": [
              "<Figure size 640x480 with 1 Axes>"
            ],
            "image/png": "[encoded data removed]"
          },
          "metadata": {}
        }
      ]
    },
    {
      "cell_type": "code",
      "source": [
        "# Contar los píxeles con valor 1 (blanco)\n",
        "area_1 = np.count_nonzero(crop == 1)\n",
        "\n",
        "# Contar los píxeles con valor 0 (negro)\n",
        "area_0 = np.count_nonzero(crop == 0)\n",
        "\n",
        "# Calcular el área total de la imagen\n",
        "area_total = area_1 + area_0\n",
        "\n",
        "print(\"Área de los píxeles con valor 1 (blanco):\", area_1)\n",
        "print(\"Área de los píxeles con valor 0 (negro):\", area_0)\n",
        "print(\"Área total de la imagen:\", area_total)\n",
        "print(\"Área ocupada: \" + str(round((area_1/area_total)*100, 2)) + '%')\n"
      ],
      "metadata": {
        "colab": {
          "base_uri": "https://localhost:8080/"
        },
        "id": "7R3-Pabqhpo3",
        "outputId": "c0bb2202-6b32-46c2-b6a0-29f0fb41572a"
      },
      "execution_count": 211,
      "outputs": [
        {
          "output_type": "stream",
          "name": "stdout",
          "text": [
            "Área de los píxeles con valor 1 (blanco): 7884\n",
            "Área de los píxeles con valor 0 (negro): 14697\n",
            "Área total de la imagen: 22581\n",
            "Área ocupada: 34.91%\n"
          ]
        }
      ]
    }
  ]
}