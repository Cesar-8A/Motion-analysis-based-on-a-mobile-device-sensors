{
  "cells": [
    {
      "cell_type": "code",
      "execution_count": null,
      "metadata": {
        "id": "Sv_uM8-uccQa"
      },
      "outputs": [],
      "source": [
        "!pip install mediapipe"
      ]
    },
    {
      "cell_type": "code",
      "execution_count": 9,
      "metadata": {
        "id": "zvEf5Db5kBIs"
      },
      "outputs": [],
      "source": [
        "import cv2\n",
        "import mediapipe as mp\n",
        "import numpy as np\n",
        "mp_drawing = mp.solutions.drawing_utils\n",
        "mp_drawing_styles = mp.solutions.drawing_styles\n",
        "mp_pose = mp.solutions.pose"
      ]
    },
    {
      "cell_type": "code",
      "execution_count": 10,
      "metadata": {
        "id": "xg5-wDCIp11f"
      },
      "outputs": [],
      "source": [
        "data = {\n",
        "    \"NOSE\":[],\n",
        "    \"LEFT_EYE_INNER\":[],\n",
        "    \"LEFT_EYE\":[],\n",
        "    \"LEFT_EYE_OUTER\":[],\n",
        "    \"RIGHT_EYE_INNER\":[],\n",
        "    \"RIGHT_EYE\":[],\n",
        "    \"RIGHT_EYE_OUTER\":[],\n",
        "    \"LEFT_EAR\":[],\n",
        "    \"RIGHT_EAR\":[],\n",
        "    \"MOUTH_LEFT\":[],\n",
        "    \"MOUTH_RIGHT\":[],\n",
        "    \"LEFT_SHOULDER\":[],\n",
        "    \"RIGHT_SHOULDER\":[],\n",
        "    \"LEFT_ELBOW\":[],\n",
        "    \"RIGHT_ELBOW\":[],\n",
        "    \"LEFT_WRIST\":[],\n",
        "    \"RIGHT_WRIST\":[],\n",
        "    \"LEFT_PINKY\":[],\n",
        "    \"RIGHT_PINKY\":[],\n",
        "    \"LEFT_INDEX\":[],\n",
        "    \"RIGHT_INDEX\":[],\n",
        "    \"LEFT_THUMB\":[],\n",
        "    \"RIGHT_THUMB\":[],\n",
        "    \"LEFT_HIP\":[],\n",
        "    \"RIGHT_HIP\":[],\n",
        "    \"LEFT_KNEE\":[],\n",
        "    \"RIGHT_KNEE\":[],\n",
        "    \"LEFT_ANKLE\":[],\n",
        "    \"RIGHT_ANKLE\":[],\n",
        "    \"LEFT_HEEL\":[],\n",
        "    \"RIGHT_HEEL\":[],\n",
        "    \"LEFT_FOOT_INDEX\":[],\n",
        "    \"RIGHT_FOOT_INDEX\":[]\n",
        "}\n"
      ]
    },
    {
      "cell_type": "code",
      "execution_count": 12,
      "metadata": {
        "colab": {
          "base_uri": "https://localhost:8080/"
        },
        "id": "o1jsy37CMlMI",
        "outputId": "9a22c46f-ead2-4b5b-b455-70de1d408d6d"
      },
      "outputs": [
        {
          "name": "stdout",
          "output_type": "stream",
          "text": [
            "End of video.\n"
          ]
        }
      ],
      "source": [
        "#Video process\n",
        "path = 'replace with video path'\n",
        "cap = cv2.VideoCapture(path)\n",
        "# Obtiene la velocidad de fotogramas (fps)\n",
        "fps = cap.get(cv2.CAP_PROP_FPS)\n",
        "if not cap.isOpened():\n",
        "  print('el video no se detecto o fallo al abrir')\n",
        "else:\n",
        "  empty = []\n",
        "  images = []\n",
        "  frame_num = 0\n",
        "  with mp_pose.Pose(\n",
        "      min_detection_confidence=0.5,\n",
        "      min_tracking_confidence=0.75,\n",
        "      smooth_landmarks=True, \n",
        "      model_complexity = 2) as pose:\n",
        "    while cap.isOpened():\n",
        "      success, image = cap.read()\n",
        "      frame_num += 1\n",
        "      if not success:\n",
        "        print(\"End of video.\")\n",
        "        break\n",
        "      # To improve performance, optionally mark the image as not writeable to\n",
        "      # pass by reference.\n",
        "      image.flags.writeable = False\n",
        "      image = cv2.cvtColor(image, cv2.COLOR_BGR2RGB)\n",
        "      results = pose.process(image)\n",
        "      #Store the data\n",
        "      if  isinstance(results.pose_landmarks, type(None)):\n",
        "        # Adding frame with its index\n",
        "        empty.append(frame_num)\n",
        "      else:\n",
        "        for key,i in zip(data.keys(), range(33)):\n",
        "          data[key].append([results.pose_landmarks.landmark[i].x, results.pose_landmarks.landmark[i].y, results.pose_landmarks.landmark[i].z])\n",
        "      #Draw the landmarks\n",
        "      image.flags.writeable = True\n",
        "      image = cv2.cvtColor(image, cv2.COLOR_RGB2BGR)      \n",
        "      mp_drawing.draw_landmarks(\n",
        "          image,\n",
        "          results.pose_landmarks,\n",
        "          mp_pose.POSE_CONNECTIONS,\n",
        "          landmark_drawing_spec=mp_drawing_styles.get_default_pose_landmarks_style())\n",
        "      #Save the image in a mtrix\n",
        "      images.append(image)\n",
        "      # Flip the image horizontally for a selfie-view display.\n",
        "  #Make them numpy\n",
        "  for key in data.keys():\n",
        "    data[key] = np.array(data[key])      \n",
        "  cap.release()"
      ]
    },
    {
      "attachments": {},
      "cell_type": "markdown",
      "metadata": {
        "id": "mA7YB8Ir3MdG"
      },
      "source": [
        "Filtrado"
      ]
    },
    {
      "cell_type": "code",
      "execution_count": 15,
      "metadata": {
        "colab": {
          "base_uri": "https://localhost:8080/"
        },
        "id": "MR_kLvjzFJAg",
        "outputId": "3b1d6f1a-a47f-479d-82a5-2b397ad71487"
      },
      "outputs": [
        {
          "name": "stdout",
          "output_type": "stream",
          "text": [
            "Moviepy - Building video media.mp4.\n",
            "Moviepy - Writing video media.mp4\n",
            "\n"
          ]
        },
        {
          "name": "stderr",
          "output_type": "stream",
          "text": []
        },
        {
          "name": "stdout",
          "output_type": "stream",
          "text": [
            "Moviepy - Done !\n",
            "Moviepy - video ready media.mp4\n"
          ]
        }
      ],
      "source": [
        "#Media/Average movil\n",
        "import numpy as np\n",
        "import copy\n",
        "\n",
        "x=0\n",
        "y=1\n",
        "z=2\n",
        "\n",
        "#interpolate to fit size\n",
        "def inter(original_data, new_length):\n",
        "  original_indices = np.arange(len(original_data))\n",
        "  new_indices = np.linspace(0, len(original_data) - 1, new_length)\n",
        "  return np.interp(new_indices, original_indices, original_data)\n",
        "\n",
        "def moving_average(data, window_size):\n",
        "    media = np.convolve(data, np.ones(window_size), 'valid') / window_size\n",
        "    return inter(media, len(data))\n",
        "\n",
        "w=5\n",
        "data_media = copy.deepcopy(data)\n",
        "for key in data.keys():\n",
        "  data_media[key][:, x] = moving_average(data[key][:, x], w)     \n",
        "  data_media[key][:, y] = moving_average(data[key][:, y], w)\n",
        "  data_media[key][:, z] = moving_average(data[key][:, z], w)\n",
        "\n",
        "\n",
        "#Make test video\n",
        "media_images = images\n",
        "width=images[0].shape[1]\n",
        "height=images[0].shape[0]\n",
        "\n",
        "for keys in data_media.keys():\n",
        "  for i in range(len(data_media[keys][:])):\n",
        "    cv2.circle(media_images[i], (int(data_media[keys][i,x]*width), int(data_media[keys][i,y]*height)), radius=5, color=[255,0,0], thickness=-1)\n",
        "\n",
        "\"\"\"\n",
        "import moviepy.editor as mpy\n",
        "# Crear un clip de ejemplo con un par de cuadros\n",
        "W, H = 1280, 720\n",
        "duration = 6  # duración del video en segundos\n",
        "fps = 30  # cuadros por segundo\n",
        "num_frames = duration * fps\n",
        "\n",
        "# Crear un clip a partir de los cuadros\n",
        "clip = mpy.ImageSequenceClip(media_images, fps=fps)\n",
        "\n",
        "# Guardar el clip en formato mp4\n",
        "clip.write_videofile('media.mp4')\n",
        "\"\"\"\n"
      ]
    },
    {
      "cell_type": "code",
      "execution_count": null,
      "metadata": {
        "colab": {
          "base_uri": "https://localhost:8080/"
        },
        "id": "m8_PT0Jo3QTT",
        "outputId": "07a80bd6-ce51-4b00-d367-2fee8a117aaa"
      },
      "outputs": [
        {
          "name": "stdout",
          "output_type": "stream",
          "text": [
            "Moviepy - Building video median.mp4.\n",
            "Moviepy - Writing video median.mp4\n",
            "\n"
          ]
        },
        {
          "name": "stderr",
          "output_type": "stream",
          "text": []
        },
        {
          "name": "stdout",
          "output_type": "stream",
          "text": [
            "Moviepy - Done !\n",
            "Moviepy - video ready median.mp4\n"
          ]
        }
      ],
      "source": [
        "#Mediana movil\n",
        "import numpy as np\n",
        "import copy\n",
        "\n",
        "x=0\n",
        "y=1\n",
        "z=2\n",
        "\n",
        "#interpolate to fit size\n",
        "def inter(original_data, new_length):\n",
        "  original_indices = np.arange(len(original_data))\n",
        "  new_indices = np.linspace(0, len(original_data) - 1, new_length)\n",
        "  return np.interp(new_indices, original_indices, original_data)\n",
        "\n",
        "def moving_median(data, window_size=10):   \n",
        "    # Aplicar el filtro de mediana móvil\n",
        "    median = np.array([np.median(data[i:i+window_size]) for i in range(len(data) - window_size + 1)])\n",
        "    return inter(median, len(data))\n",
        "\n",
        "w=10\n",
        "data_median = copy.deepcopy(data)\n",
        "for key in data.keys():\n",
        "  data_median[key][:, x] = moving_median(data[key][:, x], w)     \n",
        "  data_median[key][:, y] = moving_median(data[key][:, y], w)\n",
        "  data_median[key][:, z] = moving_median(data[key][:, z], w)\n",
        "\n",
        "\"\"\"\n",
        "#Make test video\n",
        "median_images = images\n",
        "width=images[0].shape[1]\n",
        "height=images[0].shape[0]\n",
        "\n",
        "for keys in data_median.keys():\n",
        "  for i in range(len(data_median[keys][:])):\n",
        "    cv2.circle(median_images[i], (int(data_median[keys][i,x]*width), int(data_median[keys][i,y]*height)), radius=5, color=[255,0,0], thickness=-1)\n",
        "\n",
        "\n",
        "import moviepy.editor as mpy\n",
        "# Crear un clip de ejemplo con un par de cuadros\n",
        "W, H = 1280, 720\n",
        "duration = 6  # duración del video en segundos\n",
        "fps = 30  # cuadros por segundo\n",
        "num_frames = duration * fps\n",
        "\n",
        "# Crear un clip a partir de los cuadros\n",
        "clip = mpy.ImageSequenceClip(median_images, fps=fps)\n",
        "\n",
        "# Guardar el clip en formato mp4\n",
        "clip.write_videofile('median.mp4')\n",
        "\"\"\"\n"
      ]
    },
    {
      "cell_type": "code",
      "execution_count": null,
      "metadata": {
        "id": "GioU1aJd3cSh"
      },
      "outputs": [],
      "source": [
        "#Savitzki Golay\n",
        "#import numpy as np\n",
        "import scipy.signal\n",
        "import matplotlib.pyplot as plt\n",
        "\n",
        "def savitzky_golay_filter(data, window_size, polynomial_order):\n",
        "    return scipy.signal.savgol_filter(data, window_size, polynomial_order)\n",
        "\n",
        "w=4\n",
        "p=2\n"
      ]
    },
    {
      "cell_type": "code",
      "execution_count": null,
      "metadata": {
        "colab": {
          "base_uri": "https://localhost:8080/"
        },
        "id": "qZrEcU_m7djv",
        "outputId": "8ecb51f7-5822-43a9-917e-f32e64c6943a"
      },
      "outputs": [
        {
          "name": "stdout",
          "output_type": "stream",
          "text": [
            "Moviepy - Building video median.mp4.\n",
            "Moviepy - Writing video median.mp4\n",
            "\n"
          ]
        },
        {
          "name": "stderr",
          "output_type": "stream",
          "text": []
        },
        {
          "name": "stdout",
          "output_type": "stream",
          "text": [
            "Moviepy - Done !\n",
            "Moviepy - video ready median.mp4\n"
          ]
        }
      ],
      "source": [
        "#Gauss\n",
        "import numpy as np\n",
        "import copy\n",
        "import scipy.signal\n",
        "\n",
        "x=0\n",
        "y=1\n",
        "z=2\n",
        "\n",
        "#interpolate to fit size\n",
        "def inter(original_data, new_length):\n",
        "  original_indices = np.arange(len(original_data))\n",
        "  new_indices = np.linspace(0, len(original_data) - 1, new_length)\n",
        "  return np.interp(new_indices, original_indices, original_data)\n",
        "\n",
        "def gaussian_filter(data, window_size, std_dev):\n",
        "    window = scipy.signal.windows.gaussian(window_size, std_dev)\n",
        "    filter = np.convolve(data, window, 'valid') / np.sum(window)\n",
        "    return inter(filter, len(data))\n",
        "\n",
        "s=5\n",
        "w=s*3\n",
        "data_median = copy.deepcopy(data)\n",
        "for key in data.keys():\n",
        "  data_median[key][:, x] = gaussian_filter(data[key][:, x], w, s)     \n",
        "  data_median[key][:, y] = gaussian_filter(data[key][:, y], w, s)\n",
        "  data_median[key][:, z] = gaussian_filter(data[key][:, z], w, s)\n",
        "\n",
        "#Make test video\n",
        "median_images = images\n",
        "width=images[0].shape[1]\n",
        "height=images[0].shape[0]\n",
        "\n",
        "for keys in data_median.keys():\n",
        "  for i in range(len(data_median[keys][:])):\n",
        "    cv2.circle(median_images[i], (int(data_median[keys][i,x]*width), int(data_median[keys][i,y]*height)), radius=5, color=[255,255,255], thickness=-1)\n",
        "\n",
        "#Exportar video\n",
        "import moviepy.editor as mpy\n",
        "# Crear un clip de ejemplo con un par de cuadros\n",
        "W, H = 1280, 720\n",
        "duration = 6  # duración del video en segundos\n",
        "fps = 30  # cuadros por segundo\n",
        "num_frames = duration * fps\n",
        "\n",
        "# Crear un clip a partir de los cuadros\n",
        "clip = mpy.ImageSequenceClip(median_images, fps=fps)\n",
        "\n",
        "# Guardar el clip en formato mp4\n",
        "clip.write_videofile('median.mp4')"
      ]
    }
  ],
  "metadata": {
    "colab": {
      "provenance": []
    },
    "kernelspec": {
      "display_name": "Python 3",
      "name": "python3"
    },
    "language_info": {
      "name": "python"
    }
  },
  "nbformat": 4,
  "nbformat_minor": 0
}
